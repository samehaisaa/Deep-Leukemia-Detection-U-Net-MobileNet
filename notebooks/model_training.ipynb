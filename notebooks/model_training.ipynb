#will convert ipynb notebooks to .py files
import tensorflow as tf
import gradio as gr
